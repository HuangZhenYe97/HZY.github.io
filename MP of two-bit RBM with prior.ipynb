{
 "cells": [
  {
   "cell_type": "code",
   "execution_count": 2,
   "metadata": {},
   "outputs": [],
   "source": [
    "import numpy as np\n",
    "import matplotlib.pyplot as plt\n",
    "import pickle"
   ]
  },
  {
   "cell_type": "markdown",
   "metadata": {},
   "source": [
    "create data by gibbs sample:"
   ]
  },
  {
   "cell_type": "code",
   "execution_count": 3,
   "metadata": {},
   "outputs": [],
   "source": [
    "def sign(x):\n",
    "    x[x>=0] = 1\n",
    "    x[x<0] =-1\n",
    "    return x"
   ]
  },
  {
   "cell_type": "code",
   "execution_count": 4,
   "metadata": {},
   "outputs": [],
   "source": [
    "def create_weights(N,q=0.3):\n",
    "    xi_1 = np.random.choice([-1,1],[1,N])\n",
    "    n = np.asarray([i for i in range(N)])\n",
    "    np.random.shuffle(n)\n",
    "    xi_2 = xi_1*1\n",
    "    xi_2[0][n[:int(N*(1-q)/2)]] *= -1\n",
    "    return xi_1,xi_2#shape[1,N]"
   ]
  },
  {
   "cell_type": "markdown",
   "metadata": {},
   "source": [
    "$$p(h_{i}|\\{\\xi_1,\\xi_2,\\sigma\\}) = \\frac{e^{\\frac{\\beta}{\\sqrt{N}}\\vec \\xi^{i} \\vec \\sigma h_{i} }}{ 2cosh(\\frac{\\beta}{\\sqrt{N}}\\vec \\xi^{i} \\vec \\sigma)}, i=1,2$$\n",
    "$$ p(\\sigma_{i}|\\{\\xi_1,\\xi_2,h_{1},h_{2}) =  \\frac{e^{\\frac{\\beta}{\\sqrt{N}} \\sigma_{i} (\\xi_{i}^{1}h_{1} + \\xi_{i}^{2}h_{2}) }}{2cosh(\\frac{\\beta}{\\sqrt{N}}(\\xi_{i}^{1}h_{1} + \\xi_{i}^{2}h_{2}))}$$"
   ]
  },
  {
   "cell_type": "code",
   "execution_count": 5,
   "metadata": {},
   "outputs": [],
   "source": [
    "def gibbs_sampling(beta,xi_1,xi_2, alpha = 1):\n",
    "    v = np.random.choice([-1,1],[1,N])\n",
    "    sigma = []\n",
    "    for i in range( int(alpha*N*500)+10000 ):\n",
    "        h_1 = sign( np.exp(beta/np.sqrt(N)*np.dot(xi_1,v.reshape(N,1)))/2/np.cosh(beta/np.sqrt(N)*np.dot(xi_1,v.reshape(N,1))) -  np.random.uniform(0,1))\n",
    "        h_2 = sign( np.exp(beta/np.sqrt(N)*np.dot(xi_2,v.reshape(N,1)))/2/np.cosh(beta/np.sqrt(N)*np.dot(xi_2,v.reshape(N,1))) -  np.random.uniform(0,1))\n",
    "        v = sign(np.exp(beta/np.sqrt(N)*(h_1*xi_1+h_2*xi_2))/np.cosh(beta/np.sqrt(N)*(h_1*xi_1+h_2*xi_2))/2- np.random.uniform(0,1,[1,N]))\n",
    "        if ((i+1)%500 == 0) & (i>10000):\n",
    "            sigma.append(v)\n",
    "    return np.squeeze(np.asarray(sigma))"
   ]
  },
  {
   "cell_type": "markdown",
   "metadata": {},
   "source": [
    "\n",
    "$$m_{i \\rightarrow a}^{1}=\\frac{\\sum_{\\xi_{i}^{1}, \\xi_{i}^{2}} \\xi_{i}^{1} e^{\\sum_{b \\in \\partial i / a} u_{b \\rightarrow i}\\left(\\xi_{i}^{1}, \\xi_{i}^{2}\\right)} \\times P_{0}\\left(\\xi_{i}^{1}, \\xi_{i}^{2}\\right)}{\\sum_{\\xi_{i}^{1}, \\xi_{i}^{2}} e^{\\sum_{b \\in \\partial i / a} u_{b \\rightarrow i}\\left(\\xi_{i}^{1}, \\xi_{i}^{2}\\right)} \\times P_{0}\\left(\\xi_{i}^{1}, \\xi_{i}^{2}\\right)}$$\n",
    "\n",
    "$$m_{i \\rightarrow a}^{2}=\\frac{\\sum_{\\xi_{i}^{1}, \\xi_{i}^{2}} \\xi_{i}^{2} e^{\\sum_{b \\in \\partial i / a} u_{b \\rightarrow i}\\left(\\xi_{i}^{1}, \\xi_{i}^{2}\\right)} \\times P_{0}\\left(\\xi_{i}^{1}, \\xi_{i}^{2}\\right)}{\\sum_{\\xi_{i}^{1}, \\xi_{i}^{2}} e^{\\sum_{b \\in \\partial i / a} u_{b \\rightarrow i}\\left(\\xi_{i}^{1}, \\xi_{i}^{2}\\right)} \\times P_{0}\\left(\\xi_{i}^{1}, \\xi_{i}^{2}\\right)}$$\n",
    "\n",
    "$$\n",
    "q_{i \\rightarrow a}=\\frac{\\sum_{\\xi_{i}^{1}, \\xi_{i}^{2}} \\xi_{i}^{1} \\xi_{i}^{2} e^{\\sum_{b \\in \\partial i / a} u_{b \\rightarrow i}\\left(\\xi_{i}^{1}, \\xi_{i}^{2}\\right)} \\times P_{0}\\left(\\xi_{i}^{1}, \\xi_{i}^{2}\\right)}{\\sum_{\\xi_{i}^{1}, \\xi_{i}^{2}} e^{\\sum_{b \\partial i / a} u_{b \\rightarrow i}\\left(\\xi_{i}^{1}, \\xi_{i}^{2}\\right)} \\times P_{0}\\left(\\xi_{i}^{1}, \\xi_{i}^{2}\\right)}\n",
    "$$"
   ]
  },
  {
   "cell_type": "markdown",
   "metadata": {},
   "source": [
    "得到m,q后可计算：\n",
    "$$ G_{b \\rightarrow i}^{1} = \\frac{1}{\\sqrt{N}} \\sum_{j \\neq i} \\sigma_{j}^{b} m_{j \\rightarrow b}^{1}=\\frac{1}{\\sqrt{N}} (\\sum_{j = i} \\sigma_{j}^{b} m_{j \\rightarrow b}^{1} - \\sigma_{i}^{b} m_{i \\rightarrow b}^{1}),$$\n",
    "$$G_{b \\rightarrow i}^{2} = \\frac{1}{\\sqrt{N}} \\sum_{j \\neq i} \\sigma_{j}^{b} m_{j \\rightarrow b}^{2}$$\n",
    "$$ \\Gamma_{b \\rightarrow i}^{1} = \\frac{1}{N} \\sum_{j \\neq i} (1-( m_{j \\rightarrow b}^{1})^{2}),\\Gamma_{b \\rightarrow i}^{2} = \\frac{1}{N} \\sum_{j \\neq i} (1-( m_{j \\rightarrow b}^{2})^{2})$$\n",
    "$$\\Xi_{b \\rightarrow i} = \\frac{1}{N} \\sum_{j \\neq i} ( q_{j \\rightarrow b}-m_{j \\rightarrow b}^{1}m_{j \\rightarrow b}^{2}),$$\n",
    "$$Q_{b \\rightarrow i} = \\frac{1}{N} \\sum_{j \\neq i}  q_{j \\rightarrow b}$$"
   ]
  },
  {
   "cell_type": "markdown",
   "metadata": {},
   "source": [
    "再算：\n",
    "$$\\begin{aligned} u_{b \\rightarrow i}\\left(\\xi_{i}^{1}, \\xi_{i}^{2}\\right) &=\\frac{\\beta^{2}}{2}\\left(\\Gamma_{b \\rightarrow i}^{1}+\\Gamma_{b \\rightarrow i}^{2}+2 \\Xi_{b \\rightarrow i}\\right)-\\ln \\left(2 \\cosh \\left(\\beta^{2} Q_{b \\rightarrow i}+\\frac{\\beta^{2} \\xi_{i}^{1} \\xi_{i}^{2}}{N}\\right)\\right) \\\\ &+\\ln \\cosh \\left(\\beta G_{b \\rightarrow i}^{1}+\\beta G_{b \\rightarrow i}^{2}+\\frac{\\beta}{\\sqrt{N}} \\sigma_{i}^{b}\\left(\\xi_{i}^{1}+\\xi_{i}^{2}\\right)\\right) \\\\ &+\\ln \\left[1+e^{-2 \\beta^{2} \\Xi_{b \\rightarrow i}} \\frac{\\cosh \\left(\\beta G_{b \\rightarrow i}^{1}-\\beta G_{b \\rightarrow i}^{2}+\\frac{\\beta}{\\sqrt{N}} \\sigma_{i}^{b}\\left(\\xi_{i}^{1}-\\xi_{i}^{2}\\right)\\right)}{\\cosh \\left(\\beta G_{b \\rightarrow i}^{1}+\\beta G_{b \\rightarrow i}^{2}+\\frac{\\beta}{\\sqrt{N}} \\sigma_{i}^{b}\\left(\\xi_{i}^{1}+\\xi_{i}^{2}\\right)\\right)}\\right] \\end{aligned}$$"
   ]
  },
  {
   "cell_type": "markdown",
   "metadata": {},
   "source": [
    "$$\\begin{aligned} \\Delta f_{i} &=\\ln \\sum_{\\xi_{i}^{1}, \\xi_{i}^{2}} P_{0}\\left(\\xi_{i}^{1}, \\xi_{i}^{2}\\right) \\prod_{b \\in \\partial i} \\mu_{b \\rightarrow i}\\left(\\xi_{i}^{1}, \\xi_{i}^{2}\\right) \\\\ \\Delta f_{a} &=\\frac{\\beta^{2} \\Gamma_{a}^{2}\\left(1-\\tilde{\\psi}^{2}\\right)}{2}-\\ln \\left(2 \\cosh \\left(\\beta^{2} Q_{a}\\right)\\right)+\\frac{\\beta^{2}}{2}(\\sqrt{\\Gamma_{a}^{1}}+\\sqrt{\\Gamma_{a}^{2}} \\tilde{\\psi})^{2} \\\\ &+\\ln \\cosh \\left(\\beta G_{a}^{1}+\\beta G_{a}^{2}\\right)+\\ln \\left[1+e^{-2 \\beta^{2} \\Xi_{a}} \\frac{\\cosh \\left(\\beta G_{a}^{1}-\\beta G_{a}^{2}\\right)}{\\cosh \\left(\\beta G_{a}^{1}+\\beta G_{a}^{2}\\right)}\\right] \\end{aligned}$$"
   ]
  },
  {
   "cell_type": "code",
   "execution_count": 6,
   "metadata": {},
   "outputs": [],
   "source": [
    "def free_energy_calculating(beta,xi_1,xi_2,sigma,q0, plt_show =  'N'):\n",
    "    a,_ = sigma.shape #a: quantity of data\n",
    "    u = np.random.normal(0,1,[4,a,N])/100 #u[0]=(-,-),u[1] =(+,-),u[2]=(-,+),u[4] =(+,+)\n",
    "    exp_f = np.random.rand(4,N,a) # exponential factor\n",
    "    p0 = np.array([(1+q0)/4,(1-q0)/4,(1-q0)/4,(1+q0)/4])\n",
    "    \n",
    "    m_1 = np.random.uniform(0,1,[N,a])\n",
    "    m_2 = np.random.uniform(0,1,[N,a])\n",
    "    q = np.zeros([N,a])\n",
    "    \n",
    "    #overlap betwen xi_true and xi_predict\n",
    "    overlap_1T_1p = 0\n",
    "    overlap_2T_2p = 0\n",
    "    overlap_1T_2p = 0\n",
    "    overlap_2T_1p = 0\n",
    "    overlap_1p_2p = 0\n",
    "    f = 0\n",
    "    \n",
    "    d = []#迭代判据\n",
    "    \n",
    "    yita = 1#平滑学习率\n",
    "    \n",
    "    for i in range(500):\n",
    "        temp_m_1 = m_1*1\n",
    "        temp_m_2 = m_2*1\n",
    "        temp_q = q*1\n",
    "        \n",
    "        G_1 = 1/np.sqrt(N)*(((sigma*m_1.T).sum(1)).reshape(a,1) - sigma*m_1.T )\n",
    "        G_2 = 1/np.sqrt(N)*(((sigma*m_2.T).sum(1)).reshape(a,1) - sigma*m_2.T )\n",
    "        \n",
    "        Gamma_1 = 1/N*(((1-m_1*m_1).sum(0)).reshape(a,1) - (1-m_1*m_1).T)\n",
    "        Gamma_2 = 1/N*(((1-m_2*m_2).sum(0)).reshape(a,1) - (1-m_2*m_2).T)\n",
    "        \n",
    "        Xi = 1/N*( ((q-m_1*m_2).sum(0)).reshape(a,1) - (q-m_1*m_2).T)\n",
    "        \n",
    "        Q = ( (q.sum(0)).reshape(a,1) - q.T ) /N\n",
    "        \n",
    "        u[0] = beta**2*(Gamma_1 + Gamma_2 + 2*Xi)/2 - np.log(2*np.cosh(Q*beta**2 + beta**2/N)) + np.log(np.cosh(beta*G_1 + beta*G_2 - 2*beta/np.sqrt(N)*sigma)) + np.log(1+np.exp(-2*beta**2*Xi) * np.cosh(beta*G_1-beta*G_2) / np.cosh(beta*G_1+beta*G_2-2*beta/np.sqrt(N)*sigma))            \n",
    "        u[1] = beta**2*(Gamma_1 + Gamma_2 + 2*Xi)/2 - np.log(2*np.cosh(Q*beta**2 - beta**2/N)) + np.log(np.cosh(beta*G_1 + beta*G_2 )) + np.log(1+np.exp(-2*beta**2*Xi) * np.cosh(beta*G_1-beta*G_2+2*beta/np.sqrt(N)*sigma) / np.cosh(beta*G_1+beta*G_2))            \n",
    "        u[2] = beta**2*(Gamma_1 + Gamma_2 + 2*Xi)/2 - np.log(2*np.cosh(beta**2*Q - beta**2/N)) + np.log(np.cosh(beta*G_1 + beta*G_2 )) + np.log(1+np.exp(-2*beta**2*Xi) * np.cosh(beta*G_1-beta*G_2-2*beta/np.sqrt(N)*sigma) / np.cosh(beta*G_1+beta*G_2)) \n",
    "        u[3] = beta**2*(Gamma_1 + Gamma_2 + 2*Xi)/2 - np.log(2*np.cosh(beta**2*Q + beta**2/N)) + np.log(np.cosh(beta*G_1 + beta*G_2 + 2*beta/np.sqrt(N)*sigma)) + np.log(1+np.exp(-2*beta**2*Xi) * np.cosh(beta*G_1-beta*G_2) / np.cosh(beta*G_1+beta*G_2+2*beta/np.sqrt(N)*sigma))      \n",
    "        \n",
    "        exp_f[0] = ( (u[0].sum(0)).reshape(N,1) - u[0].T)\n",
    "        exp_f[1] = ( (u[1].sum(0)).reshape(N,1) - u[1].T)\n",
    "        exp_f[2] = ( (u[2].sum(0)).reshape(N,1) - u[2].T)\n",
    "        exp_f[3] = ( (u[3].sum(0)).reshape(N,1) - u[3].T)\n",
    "        \n",
    "        A = (p0[0])/(np.exp(exp_f[0]-exp_f[0])*p0[0]+np.exp(exp_f[1]-exp_f[0])*p0[1]+np.exp(exp_f[2]-exp_f[0])*p0[2]+np.exp(exp_f[3]-exp_f[0])*p0[3])\n",
    "        B = (p0[1])/(np.exp(exp_f[0]-exp_f[1])*p0[0]+np.exp(exp_f[1]-exp_f[1])*p0[1]+np.exp(exp_f[2]-exp_f[1])*p0[2]+np.exp(exp_f[3]-exp_f[1])*p0[3])\n",
    "        C = (p0[2])/(np.exp(exp_f[0]-exp_f[2])*p0[0]+np.exp(exp_f[1]-exp_f[2])*p0[1]+np.exp(exp_f[2]-exp_f[2])*p0[2]+np.exp(exp_f[3]-exp_f[2])*p0[3])\n",
    "        D = (p0[3])/(np.exp(exp_f[0]-exp_f[3])*p0[0]+np.exp(exp_f[1]-exp_f[3])*p0[1]+np.exp(exp_f[2]-exp_f[3])*p0[2]+np.exp(exp_f[3]-exp_f[3])*p0[3])\n",
    "        \n",
    "        if (i+1)%1000 == 0:\n",
    "            yita *= 1\n",
    "        \n",
    "        m_1 = m_1+yita*(-1*A+B-C+D-m_1)\n",
    "        m_2 = m_2+yita*(-1*A-B+C+D-m_2)\n",
    "        q = q+yita*(A-B-C+D-q)\n",
    "        \n",
    "        d.append(np.abs(temp_m_1-m_1).mean() + np.abs(temp_m_2-m_2).mean()+np.abs(temp_q-q).mean())\n",
    "        if (np.abs(temp_m_1-m_1).mean() + np.abs(temp_m_2-m_2).mean() +np.abs(temp_q-q).mean()) < 1e-6 :\n",
    "            #print('convergency')\n",
    "            if plt_show == 'y':\n",
    "                plt.plot([i for i in range(len(d))],d)\n",
    "                plt.show()\n",
    "            break;\n",
    "        if i == 499:\n",
    "            if plt_show == 'y':\n",
    "                plt.plot([i for i in range(len(d))],d)\n",
    "                plt.show()\n",
    "            print('divergency',end=';  ')\n",
    "            return False,f,overlap_1T_1p,overlap_1T_2p,overlap_2T_2p,overlap_2T_1p\n",
    "        \n",
    "    #算mi，exp_f,A,B,C,D算自由能时不需要,重新利用这两个变量名\n",
    "    exp_f = np.random.rand(4,N)\n",
    "    exp_f[0] = ( (u[0].sum(0)).reshape(1,N) )\n",
    "    exp_f[1] = ( (u[1].sum(0)).reshape(1,N) )\n",
    "    exp_f[2] = ( (u[2].sum(0)).reshape(1,N) )\n",
    "    exp_f[3] = ( (u[3].sum(0)).reshape(1,N) )\n",
    "    A = (p0[0])/(np.exp(exp_f[0]-exp_f[0])*p0[0]+np.exp(exp_f[1]-exp_f[0])*p0[1]+np.exp(exp_f[2]-exp_f[0])*p0[2]+np.exp(exp_f[3]-exp_f[0])*p0[3])\n",
    "    B = (p0[1])/(np.exp(exp_f[0]-exp_f[1])*p0[0]+np.exp(exp_f[1]-exp_f[1])*p0[1]+np.exp(exp_f[2]-exp_f[1])*p0[2]+np.exp(exp_f[3]-exp_f[1])*p0[3])\n",
    "    C = (p0[2])/(np.exp(exp_f[0]-exp_f[2])*p0[0]+np.exp(exp_f[1]-exp_f[2])*p0[1]+np.exp(exp_f[2]-exp_f[2])*p0[2]+np.exp(exp_f[3]-exp_f[2])*p0[3])\n",
    "    D = (p0[3])/(np.exp(exp_f[0]-exp_f[3])*p0[0]+np.exp(exp_f[1]-exp_f[3])*p0[1]+np.exp(exp_f[2]-exp_f[3])*p0[2]+np.exp(exp_f[3]-exp_f[3])*p0[3])\n",
    "    \n",
    "    xi_1p = (sign(-1*A+B-C)).reshape(1,N)\n",
    "    xi_2p = (sign(-1*A-B+C+D)).reshape(1,N)\n",
    "    overlap_1T_1p = (xi_1*xi_1p).mean()\n",
    "    overlap_2T_2p = (xi_2*xi_2p).mean()\n",
    "    overlap_1T_2p = (xi_1*xi_2p).mean()\n",
    "    overlap_2T_1p = (xi_1p*xi_2).mean()\n",
    "    overlap_1p_2p = (xi_1p*xi_2p).mean()\n",
    "    \n",
    "    #计算自由能\n",
    "    fi = np.log(p0[0]*np.exp((u[0].sum(0)).reshape(1,N))+\n",
    "               p0[1]*np.exp((u[1].sum(0)).reshape(1,N))+\n",
    "               p0[2]*np.exp((u[2].sum(0)).reshape(1,N))+\n",
    "               p0[3]*np.exp((u[3].sum(0)).reshape(1,N)))\n",
    "\n",
    "    G_1_ = 1/np.sqrt(N)*(((sigma*m_1.T).sum(1)).reshape(1,a)  )\n",
    "    G_2_ = 1/np.sqrt(N)*(((sigma*m_2.T).sum(1)).reshape(1,a)  )\n",
    "    Gamma_1_ = 1/N*(((1-m_1*m_1).sum(0)).reshape(1,a))\n",
    "    Gamma_2_ = 1/N*(((1-m_2*m_2).sum(0)).reshape(1,a) )\n",
    "    Xi_ = 1/N*( ((q-m_1*m_2).sum(0)).reshape(1,a))\n",
    "    Q_ = ( (q.sum(0)).reshape(1,a)  )  /N\n",
    "    psi = Xi_/np.sqrt(Gamma_1_*Gamma_2_)\n",
    "    \n",
    "    fa = beta**2/2*Gamma_2_*(1-psi*psi) - np.log(2*np.cosh(beta**2*Q_))+ \\\n",
    "        beta**2/2*(np.sqrt(Gamma_1_)+np.sqrt(Gamma_2_)*psi)**2 + \\\n",
    "        np.log(np.cosh(beta*G_1_+beta*G_2_))+  \\\n",
    "        np.log(1+np.exp(-2*beta**2*Xi_)*np.cosh(beta*G_1_-beta*G_2_)/np.cosh(beta*G_1_+beta*G_2_))\n",
    "    f = np.sum(fi)/N - (N-1)/N*np.sum(fa)\n",
    "    return True,f,overlap_1T_1p,overlap_1T_2p,overlap_2T_2p,overlap_2T_1p"
   ]
  },
  {
   "cell_type": "code",
   "execution_count": 21,
   "metadata": {},
   "outputs": [
    {
     "name": "stdout",
     "output_type": "stream",
     "text": [
      "0.3\n"
     ]
    },
    {
     "data": {
      "image/png": "[encoded data removed]",
      "text/plain": [
       "<Figure size 432x288 with 1 Axes>"
      ]
     },
     "metadata": {
      "needs_background": "light"
     },
     "output_type": "display_data"
    },
    {
     "data": {
      "text/plain": [
       "(True, 0.8963688844735316, -0.1, 0.54, 0.48, 0.0)"
      ]
     },
     "execution_count": 21,
     "metadata": {},
     "output_type": "execute_result"
    }
   ],
   "source": [
    "N = 100\n",
    "beta = 1\n",
    "alpha = 0.89\n",
    "q = 0.3\n",
    "xi_1,xi_2 = create_weights(N,q)\n",
    "print((xi_1*xi_2).mean())\n",
    "sigma = gibbs_sampling(beta,xi_1,xi_2, alpha = alpha)\n",
    "free_energy_calculating(beta,xi_1,xi_2,sigma,q,plt_show = 'y')"
   ]
  },
  {
   "cell_type": "code",
   "execution_count": null,
   "metadata": {},
   "outputs": [],
   "source": [
    "fss=[]\n",
    "for i in range(20):\n",
    "    beta = 1\n",
    "    alpha = (i+1)/10\n",
    "    j = 0\n",
    "    print('\\n alpha:',alpha)\n",
    "    fs = []\n",
    "    while(j<10):\n",
    "        print(j,end = '; ')\n",
    "        sigma = gibbs_sampling(beta,xi_1,xi_2, alpha = alpha)\n",
    "        covergence,f,o11,o12,o22,o21 = free_energy_calculating(beta,xi_1,xi_2,sigma,q)\n",
    "        if covergence:\n",
    "            fs.append(f)\n",
    "            j+=1\n",
    "    fss.append(fs)\n",
    "fs = np.asarray(fss)"
   ]
  },
  {
   "cell_type": "code",
   "execution_count": 74,
   "metadata": {},
   "outputs": [],
   "source": [
    "filename = 'MP'\n",
    "f = open(filename, 'wb')\n",
    "pickle.dump([fs], f)\n",
    "f.close()"
   ]
  },
  {
   "cell_type": "code",
   "execution_count": 75,
   "metadata": {},
   "outputs": [
    {
     "data": {
      "text/plain": [
       "Text(0.5,1,'beta = 1, -βf(MP)')"
      ]
     },
     "execution_count": 75,
     "metadata": {},
     "output_type": "execute_result"
    },
    {
     "data": {
      "image/png": "[encoded data removed]",
      "text/plain": [
       "<Figure size 432x288 with 1 Axes>"
      ]
     },
     "metadata": {
      "needs_background": "light"
     },
     "output_type": "display_data"
    }
   ],
   "source": [
    "f_mean = fs.mean(1)\n",
    "f_std = np.std(fs,1)\n",
    "plt.plot([(i+1)*0.1 for i in range(20)],f_mean)\n",
    "plt.errorbar([(i+1)*0.1 for i in range(20)],f_mean,f_std)\n",
    "plt.xlabel('α')\n",
    "plt.ylabel('-βf')\n",
    "plt.title('beta = 1, -βf(MP)' )"
   ]
  }
 ],
 "metadata": {
  "kernelspec": {
   "display_name": "tensorflow",
   "language": "python",
   "name": "tensorflow"
  },
  "language_info": {
   "codemirror_mode": {
    "name": "ipython",
    "version": 3
   },
   "file_extension": ".py",
   "mimetype": "text/x-python",
   "name": "python",
   "nbconvert_exporter": "python",
   "pygments_lexer": "ipython3",
   "version": "3.7.0"
  }
 },
 "nbformat": 4,
 "nbformat_minor": 2
}
