{
 "cells": [
  {
   "cell_type": "code",
   "execution_count": 1,
   "metadata": {},
   "outputs": [],
   "source": [
    "#作者：ZY，意见或讨论请联系986561785@qq.com\n",
    "\n",
    "#导入相关函数库\n",
    "import numpy as np\n",
    "import matplotlib.pyplot as plt\n",
    "import pickle"
   ]
  },
  {
   "cell_type": "code",
   "execution_count": 2,
   "metadata": {},
   "outputs": [],
   "source": [
    "#定义符号函数\n",
    "def sign(x):\n",
    "    x[x>=0] = 1\n",
    "    x[x<0] =-1\n",
    "    return x"
   ]
  },
  {
   "cell_type": "code",
   "execution_count": 3,
   "metadata": {},
   "outputs": [],
   "source": [
    "#考虑overlap置换对称性，挑选最大的overlap组合\n",
    "def overlap(ol):#ol.shape = n_h*n_h\n",
    "    a = ol.shape[0]\n",
    "    ol_temp = np.abs(ol)\n",
    "    ol_max = np.zeros([1,a])\n",
    "    for i in range(a):\n",
    "        row,colunm = np.where(ol_temp == ol_temp.max())#寻找绝对值最大的ol元素行标和列标\n",
    "        ol_max[0][row] = ol[row[0],colunm[0]]#将找到的最大值以行标赋值\n",
    "        ol_temp[row[0],:] = 0 #取值后，同行同列置0\n",
    "        ol_temp[:, colunm[0]] = 0\n",
    "    return ol_max#行最大"
   ]
  },
  {
   "cell_type": "code",
   "execution_count": 4,
   "metadata": {},
   "outputs": [],
   "source": [
    "def gibbs_sampling(beta,xi, alpha = 1):#xi.shape:n_v*n_h， 吉布斯抽样\n",
    "    N = xi.shape[0]\n",
    "    v = np.random.choice([-1,1],[1,N])\n",
    "    sigma = []\n",
    "    for i in range( int(alpha*N*500)+10000 ):\n",
    "        \n",
    "        h = sign( np.exp( beta/np.sqrt(N) * np.dot(v,xi) ) /2 /np.cosh(beta/np.sqrt(N)*np.dot(v,xi)) \\\n",
    "            -  np.random.uniform(0,1,[1,xi.shape[1]]))\n",
    "        \n",
    "        v = sign( np.exp(beta/np.sqrt(N) * (h.dot(xi.T))) /np.cosh(beta/np.sqrt(N)*(h.dot(xi.T)) )/2 \\\n",
    "            - np.random.uniform(0,1,[1,N]) )\n",
    "        \n",
    "        if ((i+1)%500 == 0) & (i>10000):\n",
    "            sigma.append(v)\n",
    "    return np.squeeze(np.asarray(sigma))"
   ]
  },
  {
   "cell_type": "markdown",
   "metadata": {},
   "source": [
    "LB：\n",
    "$$\n",
    "\\mathrm { LB } \\left( q _ { \\lambda } \\right) = - \\mathrm { KL } \\left( q _ { \\lambda } ( \\xi ) \\| P ( \\xi ) \\right) + \\mathbb { E } \\left[ \\sum _ { a , \\mu } \\cosh \\left( \\beta X _ { \\mu } ^ { a } \\right) - M \\ln Z ( \\xi ) \\right]\n",
    "$$    \n",
    "其中KL项：\n",
    "$$ \n",
    "- \\operatorname { KL } \\left( q _ { \\lambda } ( \\xi ) \\| P ( \\xi ) \\right) = \\sum _ { x = \\pm 1 } \\sum _ { i , \\mu } \\left[ \\mathcal { S } \\left( \\frac { 1 + \\lambda _ { i \\mu } x } { 2 } , \\frac { 1 + m _ { i \\mu } x } { 2 } \\right) - \\mathcal { S } \\left( \\frac { 1 + \\lambda _ { i \\mu } x } { 2 } , \\frac { 1 + \\lambda _ { i \\mu } x } { 2 } \\right) \\right]\n",
    "$$ \n",
    "ELL项：\n",
    "$$ \n",
    "\\mathbb { E } \\left[ \\sum _ { a , \\mu } \\cosh \\left( \\beta X _ { \\mu } ^ { a } \\right) - M \\ln Z ( \\xi ) \\right] = \\frac { 1 } { B _ { 1 } } \\sum _ { a , \\mu , s } \\ln \\cosh \\left( \\beta G _ { \\mu } ^ { a } + \\beta \\Xi _ { \\mu } z _ { \\mu } ^ { s } \\right) - \\frac { M } { B _ { 2 } } \\sum _ { s } \\ln \\sum _ { s } \\prod _ { \\mu } \\cosh \\left( \\beta G _ { \\mu } + \\beta \\bar { \\varepsilon } _ { \\mu } z _ { i } ^ { * } \\right)\n",
    "$$ "
   ]
  },
  {
   "cell_type": "markdown",
   "metadata": {},
   "source": [
    "权重更新：\n",
    "\n",
    "KL项导数：\n",
    "$$ \n",
    "- \\frac { \\partial } { \\partial \\lambda _ { i \\mu } } \\mathrm { KL } \\left( q _ { \\lambda } ( \\xi ) \\| P ( \\xi ) \\right) = \\sum _ { x = \\pm 1 } \\frac { x } { 2 } \\left( \\ln \\frac { 1 + x m _ { i \\mu } } { 1 + x \\lambda _ { i \\mu } } - 1 \\right)\n",
    "$$ "
   ]
  },
  {
   "cell_type": "markdown",
   "metadata": {},
   "source": [
    "ELL第一项导数：\n",
    "$$ \n",
    "\\begin{aligned} \\frac { \\partial } { \\partial \\lambda _ { i \\mu } } \\mathbb { E } \\left[ \\sum _ { a , \\mu } \\cosh \\left( \\beta X _ { \\mu } ^ { a } \\right) \\right] & \\simeq \\frac { \\beta } { B _ { 1 } \\sqrt { N } } \\sum _ { a , s } \\sigma _ { i } ^ { a } \\tanh \\left( \\beta G _ { \\mu } ^ { a } + \\beta \\Xi _ { \\mu } z _ { \\mu } ^ { s } \\right) \\\\ & - \\frac { \\beta ^ { 2 } \\lambda _ { i \\mu } } { N B _ { 1 } } \\sum _ { a , s } \\left[ 1 - \\tanh ^ { 2 } \\left( \\beta G _ { \\mu } ^ { a } + \\beta \\Xi _ { \\mu } z _ { \\mu } ^ { s } \\right) \\right] \\end{aligned}\n",
    "$$ \n",
    "其中：\n",
    "$$\n",
    "\\begin{array} { l } { G _ { \\mu } ^ { a } = \\frac { 1 } { \\sqrt { N } } \\sum _ { i \\in \\partial \\mu } \\lambda _ { i \\mu } \\sigma _ { i } ^ { a } } \\\\ { \\Xi _ { \\mu } ^ { 2 } = \\frac { 1 } { N } \\sum _ { i \\in \\partial \\mu } \\left( 1 - \\lambda _ { i \\mu } ^ { 2 } \\right) } \\end{array}\n",
    "$$"
   ]
  },
  {
   "cell_type": "markdown",
   "metadata": {},
   "source": [
    "ELL第二项等效一个连接权重为$\\lambda_{i \\mu}$的连续权重RBM的自由能。可用空腔方法算，迭代方程：\n",
    "$$\n",
    "\\begin{array} { l } { m _ { i \\rightarrow \\nu } = \\tanh \\left( \\sum _ { \\mu \\in \\partial i \\backslash \\nu } u _ { \\mu \\rightarrow i } \\right) } \\\\ { u _ { \\mu \\rightarrow i } = \\tanh ^ { - 1 } \\left( \\tanh \\left( \\beta \\chi _ { \\mu \\rightarrow i } + \\beta H _ { \\mu } \\right) \\tanh \\left( \\beta \\lambda _ { i \\mu } / \\sqrt { N } \\right) \\right) } \\end{array}\n",
    "$$\n",
    "其中：$\\chi _ { \\mu \\rightarrow i } \\equiv \\frac { 1 } { \\sqrt { N } } \\sum _ { j \\in \\partial \\mu \\backslash i } \\lambda _ { j \\mu } m _ { j \\rightarrow \\mu }$,    $H_{\\mu} = \\Xi_{\\mu}z_{\\mu}^{s}$\n",
    "进而计算自由能：\n",
    "\\begin{equation}\n",
    "\\begin{array} { l } { F _ { i } = \\sum _ { \\mu \\in \\partial _ { i } } \\left[ \\beta ^ { 2 } \\Lambda _ { \\mu \\rightarrow i } ^ { 2 } / 2 + \\ln \\cosh \\left( \\beta \\chi _ { \\mu \\rightarrow i } + \\beta H _ { \\mu } + \\beta \\lambda _ { i \\mu } / \\sqrt { N } \\right) \\right] + \\ln \\left( 1 + \\prod _ { \\mu \\in \\partial i } e ^ { - 2 i t _ { \\mu } } \\right) } \\\\ { F _ { \\mu } = \\beta ^ { 2 } \\Lambda _ { \\mu } ^ { 2 } / 2 + \\ln \\cosh \\left( \\beta \\chi _ { \\mu } + \\beta H _ { \\mu } \\right) } \\end{array}\n",
    "\\end{equation}\n",
    "\n",
    "它的导数项为：\n",
    "\\begin{equation}\n",
    "\\begin{aligned} \\frac { \\partial } { \\partial \\lambda _ { i \\mu } } \\mathbb { E } \\ln Z ( \\boldsymbol { \\xi } ) & \\simeq \\frac { \\beta } { \\sqrt { N } B _ { 2 } } \\sum _ { s } \\left\\langle \\sigma _ { i } \\tanh \\left( \\beta G _ { \\mu } + \\beta \\Xi _ { \\mu } z _ { \\mu } ^ { s } \\right) \\right\\rangle \\\\ & - \\frac { \\beta \\lambda _ { i \\mu } } { N B _ { 2 } } \\sum _ { s } \\left[ \\frac { z _ { \\mu } ^ { s } } { \\Xi _ { \\mu } } \\left\\langle \\tanh \\left( \\beta G _ { \\mu } + \\beta \\Xi _ { \\mu } z _ { \\mu } ^ { s } \\right) \\right\\rangle \\right] \\\\ & = \\frac { \\beta } { \\sqrt { N } B _ { 2 } } \\sum _ { s } \\left[ C _ { i \\mu } - \\frac { \\lambda _ { i \\mu } z _ { \\mu } ^ { s } } { \\sqrt { N } \\Xi _ { \\mu } } \\hat { m } _ { \\mu } \\right] \\end{aligned}\n",
    "\\end{equation}\n",
    "\n",
    "其中：\n",
    "\\begin{equation}\n",
    "\\begin{array} { l } { m _ { i } = \\tanh \\left( \\sum _ { \\mu \\in \\partial i } u _ { \\mu \\rightarrow i } \\right) } \\\\ { \\hat { m } _ { \\mu } = \\int D z \\tanh \\left( \\beta \\tilde { \\chi } _ { \\mu } + \\beta H _ { \\mu } + \\beta \\tilde { \\Lambda } _ { \\mu } z \\right) } \\\\ { C _ { i \\mu } = \\hat { m } _ { \\mu } m _ { i } + \\frac { \\beta \\lambda _ { i \\mu } } { \\sqrt { N } } \\left( 1 - m _ { i } ^ { 2 } \\right) A _ { \\mu } } \\\\ { A _ { \\mu } = 1 - \\int D z \\tanh ^ { 2 } \\left( \\beta \\tilde { \\chi } _ { \\mu } + \\beta H _ { \\mu } + \\beta \\tilde { \\Lambda } _ { \\mu } z \\right) } \\end{array}\n",
    "\\end{equation}\n",
    "\\begin{equation}\n",
    "D z \\equiv e ^ { - z ^ { 2 } / 2 } / \\sqrt { 2 \\pi } d z , \\tilde { \\chi } _ { \\mu } \\equiv \\frac { 1 } { \\sqrt { N } } \\sum _ { i \\in \\partial \\mu } \\lambda _ { i \\mu } m _ { i } , \\text { and } \\tilde { \\Lambda } _ { \\mu } ^ { 2 } \\equiv \\frac { 1 } { N } \\sum _ { i \\in \\partial \\mu } \\lambda _ { i \\mu } ^ { 2 } \\left( 1 - m _ { i } ^ { 2 } \\right)\n",
    "\\end{equation}"
   ]
  },
  {
   "cell_type": "code",
   "execution_count": 5,
   "metadata": {},
   "outputs": [],
   "source": [
    "class RBM_binary():\n",
    "    \n",
    "    def __init__(self,n_v,n_h,beta,lr=0.1, gamma = 0.9):\n",
    "        \n",
    "        self.n_v = n_v #显层神经元数量\n",
    "        self.n_h = n_h #隐层神经元数量\n",
    "        self.beta = beta #温度\n",
    "        self.xi = np.random.choice([-1,1],[n_v,n_h]) #网络权重\n",
    "        self.ld = 2*np.random.rand(n_v,n_h)-1 #lambda：网络权重的均值\n",
    "        self.m = np.zeros([n_v,n_h])#先验，没有则设置为0\n",
    "        self.lr = lr\n",
    "        self.gamma = gamma\n",
    "        self.momentum = 0\n",
    "        self.KL = -1/2*( (1+self.ld)*np.log( (1+self.m)/2) + (1-self.ld)*np.log( (1-self.m)/2) \\\n",
    "                       - (1+self.ld)*np.log((1+self.ld)/2) - (1-self.ld)*np.log((1-self.ld)/2)).sum()\n",
    "        self.LB = 0\n",
    "        \n",
    "    def forward(self,sigma): #隐层抽样\n",
    "        return sign( np.exp( beta/np.sqrt(self.n_v) * np.dot(sigma,self.xi) ) /2 /np.cosh(beta/np.sqrt(self.n_v)*np.dot(sigma,self.xi)) \\\n",
    "            -  np.random.uniform(0,1,[sigma.shape[0],self.xi.shape[1]]))\n",
    "    \n",
    "    def backward(self,h): #显层抽样\n",
    "        return sign( np.exp(beta/np.sqrt(self.n_v) * (h.dot(self.xi.T))) /np.cosh(beta/np.sqrt(self.n_v)*(h.dot(self.xi.T)) )/2 \\\n",
    "            - np.random.uniform(0,1,[h.shape[0],self.n_v]) )\n",
    "    \n",
    "        \n",
    "    def train(self, sigma):#sigma.shape: [M,n_v],输入数据进行训练\n",
    "        \n",
    "        #KL导数项\n",
    "        delta1 = 1/2*( np.log( (1+self.m)/(1+ self.ld)) - np.log((1-self.m)/(1- self.ld)) )\n",
    "        \n",
    "        #ELL的第一项导数值\n",
    "        G = 1/np.sqrt(self.n_v)*(sigma.dot(self.ld))  #G:[M,n_h]\n",
    "        Xi = np.sqrt( 1/self.n_v* (1-self.ld**2).sum(0).reshape(1,self.n_h) )  #Xi:[1,n_h]\n",
    "        rn = np.random.randn(5000,1,self.n_h) #产生用于计算积分的随机数\n",
    "        delta2 = self.beta/np.sqrt(self.n_v)*( (sigma.T).dot( np.tanh(self.beta*G + self.beta*Xi*rn)  ).sum(1)) /5000\n",
    "        \n",
    "        delta3 = -1*self.beta**2*self.ld/self.n_v * \\\n",
    "                 (1 - np.power( np.tanh(self.beta*G + self.beta*Xi*rn ), 2)).sum(0).sum(0).reshape(1,self.n_h) /5000\n",
    "        \n",
    "        #ELL的第二项导数值\n",
    "        delta4 = 0\n",
    "        i = 0\n",
    "        F = 0\n",
    "        while(i<=2000):\n",
    "            rn = np.random.randn(1,self.n_h)\n",
    "            b = Xi * rn\n",
    "            m = np.random.rand(self.n_v,self.n_h)\n",
    "            for j in range(1000): #新RBM迭代\n",
    "                temp = m*1\n",
    "                chi = 1/np.sqrt(self.n_v)*( (self.ld*m).sum(0) - self.ld*m).T\n",
    "                u = np.arctanh( np.tanh(self.beta*chi+self.beta*b.T) *np.tanh(self.beta*self.ld.T/np.sqrt(self.n_v)))\n",
    "                m = np.tanh( (u.sum(0)-u).T )\n",
    "                if np.abs(m-temp).sum()<1e-6:\n",
    "                    converged = True\n",
    "                    break;\n",
    "                if j== 999:\n",
    "                    converged = False\n",
    "            \n",
    "            if converged:\n",
    "                Lambda = np.sqrt( ((self.ld**2 * (1-m**2)).sum(0) - self.ld**2 * (1-m**2) ).T/self.n_v ).reshape(self.n_h,self.n_v)\n",
    "                Fi = (self.beta**2*Lambda**2/2 + np.log(np.cosh( self.beta*chi + self.beta*b.T +self.beta*self.ld.T/np.sqrt(self.n_v)  )) ).sum()\\\n",
    "                    + np.log(1+np.exp(-2*u.sum(0))).sum()\n",
    "                chi = 1/np.sqrt(self.n_v)*(self.ld*m).sum(0).reshape(1,self.n_h)\n",
    "                Lambda = np.sqrt( (self.ld**2 * (1-m**2)).sum(0) /self.n_v ).reshape(1,self.n_h)\n",
    "                Fa = (self.beta**2*Lambda**2/2 + np.log( np.cosh( self.beta*( chi + b.T ) ) )).sum()\n",
    "                F += Fi - Fa*(self.n_v - 1)\n",
    "                \n",
    "                m = np.tanh(u.sum(0)).reshape(1,self.n_v)\n",
    "                chi = 1/np.sqrt(self.n_v)*(self.ld*m.T).sum(0).reshape(1,self.n_h)\n",
    "                Lambda = np.sqrt( (self.ld**2 * (1-m**2).T).sum(0) /self.n_v ).reshape(1,self.n_h)\n",
    "                \n",
    "                int_rn = np.random.standard_normal([2000,1,self.n_h])\n",
    "                m_hat = np.tanh(self.beta * (chi + b +int_rn*Lambda)).mean(0)\n",
    "                A = 1 - ( np.tanh(self.beta * (chi + b +int_rn*Lambda)) **2).mean(0)\n",
    "                c = m.T.dot(m_hat) + self.beta*self.ld/np.sqrt(self.n_v) * (1-m**2).T.dot(A)\n",
    "                \n",
    "                delta4 += c - self.ld/np.sqrt(self.n_v)*(rn*m_hat/Xi)\n",
    "                i+=1\n",
    "        F = F/2000\n",
    "        \n",
    "        delta4 = -1*sigma.shape[0]*self.beta*delta4/2000/np.sqrt(self.n_v)\n",
    "        \n",
    "        #计算KL和LB\n",
    "        self.KL = -1/2*( (1+self.ld)*np.log( (1+self.m)/2) + (1-self.ld)*np.log( (1-self.m)/2) \\\n",
    "                       - (1+self.ld)*np.log((1+self.ld)/2) - (1-self.ld)*np.log((1-self.ld)/2)).sum()\n",
    "        rn = np.random.standard_normal([2000,1,self.n_h])\n",
    "        ExpLL1 = np.log( np.cosh(self.beta*G + self.beta*Xi*rn) ).sum()/2000\n",
    "        ExpLL2 = F\n",
    "        self.LB = -1*self.KL + ExpLL1 - sigma.shape[0]*ExpLL2\n",
    "        \n",
    "        #动量更新\n",
    "        self.momentum = self.gamma*self.momentum + self.lr*(delta1+delta2+delta3+delta4)\n",
    "        self.ld += self.momentum\n",
    "        \n",
    "        #lambda限制，xi解码\n",
    "        self.ld[self.ld>=1] = 0.999 \n",
    "        self.ld[self.ld<=-1] = -0.999  \n",
    "        self.xi = sign(self.ld*1)"
   ]
  },
  {
   "cell_type": "code",
   "execution_count": 6,
   "metadata": {},
   "outputs": [],
   "source": [
    "n_v = 100\n",
    "n_h = 3\n",
    "beta = 1\n",
    "xi = np.random.choice([-1,1],[n_v,n_h])#真实权重\n",
    "sigma = gibbs_sampling(beta, xi, alpha = 5)#alpha，数据密度"
   ]
  },
  {
   "cell_type": "code",
   "execution_count": 7,
   "metadata": {},
   "outputs": [],
   "source": [
    "rbm = RBM_binary(n_v,n_h, beta, lr = 0.4, gamma=0.9)"
   ]
  },
  {
   "cell_type": "code",
   "execution_count": 8,
   "metadata": {},
   "outputs": [
    {
     "name": "stdout",
     "output_type": "stream",
     "text": [
      "0 [[ 0.48 -0.14  0.28]] KL: 57.718411980671064   LB: 92567.69345281979\n",
      "1 [[ 0.5  -0.16  0.32]] KL: 22.61544789615308   LB: 83208.32328907475\n",
      "2 [[ 0.64 -0.44  0.54]] KL: 64.33251812313561   LB: 92609.9072273817\n",
      "3 [[ 0.72 -0.48  0.36]] KL: 74.40758555155635   LB: 92245.21093333086\n",
      "4 [[ 0.74 -0.56  0.3 ]] KL: 106.98421718455708   LB: 98473.39456805114\n",
      "5 [[ 0.76 -0.66  0.24]] KL: 122.22609483578617   LB: 96566.23343743615\n",
      "6 [[ 0.82 -0.78  0.1 ]] KL: 134.98593238561807   LB: 99829.2802654191\n",
      "7 [[ 0.84 -0.88 -0.04]] KL: 144.33462057281093   LB: 99750.09146928744\n",
      "8 [[ 0.86 -0.88 -0.08]] KL: 153.99643839210216   LB: 102329.84252387735\n",
      "9 [[ 0.86 -0.92 -0.14]] KL: 159.6591484277057   LB: 103662.79357344795\n",
      "10 [[ 0.86 -0.92 -0.22]] KL: 168.28718028931536   LB: 104937.02489989022\n",
      "11 [[ 0.86 -0.9  -0.22]] KL: 170.82108555868604   LB: 105547.23859504871\n",
      "12 [[ 0.86 -0.9  -0.18]] KL: 175.23979239761715   LB: 106062.56179153481\n",
      "13 [[ 0.86 -0.9  -0.28]] KL: 178.22646173790002   LB: 106468.30770576821\n",
      "14 [[ 0.9  -0.9  -0.32]] KL: 180.7009871692304   LB: 107192.36296979533\n",
      "15 [[ 0.92 -0.9  -0.4 ]] KL: 183.83071031192844   LB: 108887.46658623744\n",
      "16 [[ 0.92 -0.9  -0.4 ]] KL: 194.2583412396391   LB: 110775.89632748885\n",
      "17 [[ 0.92 -0.9  -0.4 ]] KL: 199.52940899408964   LB: 112306.73082306064\n",
      "18 [[ 0.92 -0.9  -0.4 ]] KL: 203.11207735847836   LB: 113263.12435702802\n",
      "19 [[ 0.92 -0.9  -0.42]] KL: 204.62777591942768   LB: 113538.69374310473\n",
      "20 [[ 0.92 -0.9  -0.42]] KL: 205.76686871437644   LB: 113700.24556651882\n",
      "21 [[ 0.92 -0.9  -0.42]] KL: 206.6540563053039   LB: 113911.1322542424\n",
      "22 [[ 0.92 -0.9  -0.42]] KL: 206.4191170346472   LB: 113895.1691794924\n",
      "23 [[ 0.92 -0.9  -0.42]] KL: 206.62278540539916   LB: 113908.95755496713\n",
      "24 [[ 0.92 -0.9  -0.42]] KL: 206.6540563053039   LB: 113909.68170765068\n",
      "25 [[ 0.92 -0.9  -0.42]] KL: 206.43511330793876   LB: 113887.38479085271\n",
      "26 [[ 0.92 -0.9  -0.42]] KL: 206.43585587466174   LB: 113878.67605478247\n",
      "27 [[ 0.92 -0.9  -0.42]] KL: 205.74348465744106   LB: 113864.78322807404\n",
      "28 [[ 0.92 -0.9  -0.42]] KL: 206.6540563053039   LB: 113913.81410325653\n",
      "29 [[ 0.92 -0.9  -0.42]] KL: 206.52984123053164   LB: 113898.41004153596\n",
      "30 [[ 0.92 -0.9  -0.42]] KL: 206.55449774739742   LB: 113905.82368396423\n",
      "31 [[ 0.92 -0.9  -0.42]] KL: 206.6540563053039   LB: 113917.53261573904\n",
      "32 [[ 0.92 -0.9  -0.42]] KL: 206.45931642658138   LB: 113884.17548858988\n",
      "33 [[ 0.92 -0.9  -0.42]] KL: 206.44354482528132   LB: 113895.35932742573\n",
      "34 [[ 0.92 -0.9  -0.42]] KL: 206.6540563053039   LB: 113899.02745462993\n",
      "35 [[ 0.92 -0.9  -0.42]] KL: 206.2820065145913   LB: 113866.32716657562\n",
      "36 [[ 0.92 -0.9  -0.42]] KL: 206.18288506539682   LB: 113867.73592151364\n",
      "37 [[ 0.92 -0.9  -0.42]] KL: 206.64131149097136   LB: 113910.63259564048\n",
      "38 [[ 0.92 -0.9  -0.42]] KL: 206.6540563053039   LB: 113908.11537477243\n",
      "39 [[ 0.92 -0.9  -0.42]] KL: 206.1048510543513   LB: 113847.35923560591\n",
      "40 [[ 0.92 -0.9  -0.42]] KL: 206.3240226325255   LB: 113895.57290065904\n",
      "41 [[ 0.92 -0.9  -0.42]] KL: 206.53261246655427   LB: 113897.75115908012\n",
      "42 [[ 0.92 -0.9  -0.42]] KL: 206.26499708587602   LB: 113881.74424454375\n",
      "43 [[ 0.92 -0.9  -0.42]] KL: 206.6540563053039   LB: 113916.096105999\n",
      "44 [[ 0.92 -0.9  -0.42]] KL: 206.60655336166383   LB: 113910.23097613748\n",
      "45 [[ 0.92 -0.9  -0.42]] KL: 206.60446708919363   LB: 113909.01605417319\n",
      "46 [[ 0.92 -0.9  -0.42]] KL: 206.6540563053039   LB: 113913.20622128028\n",
      "47 [[ 0.92 -0.9  -0.42]] KL: 206.6366728076435   LB: 113917.45482538981\n",
      "48 [[ 0.92 -0.9  -0.42]] KL: 206.4999630719867   LB: 113895.73437727385\n",
      "49 [[ 0.92 -0.9  -0.42]] KL: 206.46289149601262   LB: 113895.97826398387\n"
     ]
    }
   ],
   "source": [
    "ol = []\n",
    "kl = []\n",
    "LB = []\n",
    "for i in range(50):\n",
    "    rbm.train(sigma)\n",
    "    ol.append(overlap(np.abs(sign(rbm.ld*1).T.dot(xi))/100))\n",
    "    kl.append(rbm.KL)\n",
    "    LB.append(rbm.LB)\n",
    "    if i % 20 == 0:\n",
    "        rbm.lr *= 1\n",
    "    print(i,overlap((sign(rbm.ld*1).T.dot(xi))/100),'KL:',rbm.KL,'  LB:',rbm.LB)"
   ]
  },
  {
   "cell_type": "code",
   "execution_count": 9,
   "metadata": {},
   "outputs": [
    {
     "data": {
      "text/plain": [
       "Text(0, 0.5, 'LB')"
      ]
     },
     "execution_count": 9,
     "metadata": {},
     "output_type": "execute_result"
    },
    {
     "data": {
      "image/png": "[encoded data removed]",
      "text/plain": [
       "<Figure size 432x864 with 3 Axes>"
      ]
     },
     "metadata": {
      "needs_background": "light"
     },
     "output_type": "display_data"
    }
   ],
   "source": [
    "ol = np.asarray(ol).squeeze()\n",
    "A = plt.figure(figsize=(6,12))\n",
    "marks = ['r', 'b', 'g']\n",
    "label = ['overlap 1','overlap 2','overlap 3']\n",
    "plt.subplot(3,1,1)\n",
    "for i in range(3):\n",
    "    plt.plot([i for i in range(50)], ol[:,i],marks[i], label = label[i])\n",
    "plt.legend()\n",
    "plt.xlabel('learning steps')\n",
    "plt.ylabel('overlap')\n",
    "plt.subplot(3,1,2)\n",
    "plt.plot([i for i in range(50)],kl)\n",
    "plt.xlabel('learning steps')\n",
    "plt.ylabel('KL')\n",
    "\n",
    "plt.subplot(3,1,3)\n",
    "plt.plot([i for i in range(50)], LB)\n",
    "plt.xlabel('learning steps')\n",
    "plt.ylabel('LB')"
   ]
  },
  {
   "cell_type": "code",
   "execution_count": null,
   "metadata": {},
   "outputs": [],
   "source": []
  }
 ],
 "metadata": {
  "kernelspec": {
   "display_name": "pytorch",
   "language": "python",
   "name": "pytorch"
  },
  "language_info": {
   "codemirror_mode": {
    "name": "ipython",
    "version": 3
   },
   "file_extension": ".py",
   "mimetype": "text/x-python",
   "name": "python",
   "nbconvert_exporter": "python",
   "pygments_lexer": "ipython3",
   "version": "3.7.3"
  }
 },
 "nbformat": 4,
 "nbformat_minor": 2
}
